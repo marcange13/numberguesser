{
 "cells": [
  {
   "cell_type": "code",
   "execution_count": 1,
   "id": "395f3b7d-c6b1-4d57-9b32-f14ff27f1159",
   "metadata": {},
   "outputs": [
    {
     "name": "stdout",
     "output_type": "stream",
     "text": [
      "Welcome! Guess the number. You have 4 attempts and 3 hints available.\n"
     ]
    },
    {
     "name": "stdin",
     "output_type": "stream",
     "text": [
      "Enter your guess or type 'hint':  2\n"
     ]
    },
    {
     "name": "stdout",
     "output_type": "stream",
     "text": [
      "Incorrect! 3 guesses left. Type 'hint' for a clue.\n"
     ]
    },
    {
     "name": "stdin",
     "output_type": "stream",
     "text": [
      "Enter your guess or type 'hint':  hint\n"
     ]
    },
    {
     "name": "stdout",
     "output_type": "stream",
     "text": [
      "The number is even.\n"
     ]
    },
    {
     "name": "stdin",
     "output_type": "stream",
     "text": [
      "Enter your guess or type 'hint':  2\n"
     ]
    },
    {
     "name": "stdout",
     "output_type": "stream",
     "text": [
      "Incorrect! 2 guesses left. Type 'hint' for a clue.\n"
     ]
    },
    {
     "name": "stdin",
     "output_type": "stream",
     "text": [
      "Enter your guess or type 'hint':  hint\n"
     ]
    },
    {
     "name": "stdout",
     "output_type": "stream",
     "text": [
      "14\n"
     ]
    },
    {
     "name": "stdin",
     "output_type": "stream",
     "text": [
      "Enter your guess or type 'hint':  14\n"
     ]
    },
    {
     "name": "stdout",
     "output_type": "stream",
     "text": [
      "Incorrect! 1 guesses left. Type 'hint' for a clue.\n"
     ]
    },
    {
     "name": "stdin",
     "output_type": "stream",
     "text": [
      "Enter your guess or type 'hint':  10\n"
     ]
    },
    {
     "name": "stdout",
     "output_type": "stream",
     "text": [
      "Game over! The number was 42.\n"
     ]
    }
   ],
   "source": [
    "import random\n",
    "\n",
    "class Guesser:\n",
    "    def __init__(self, number=None, max_guesses=4, max_hints=3):\n",
    "        self.number = number if number else random.randint(1, 100)\n",
    "        self.max_guesses = max_guesses\n",
    "        self.max_hints = max_hints\n",
    "        self.remaining_guesses = max_guesses\n",
    "        self.remaining_hints = max_hints\n",
    "\n",
    "    def get_hint(self):\n",
    "        if self.remaining_hints == 0:\n",
    "            return \"No hints left! Focus on guessing.\"\n",
    "        \n",
    "        self.remaining_hints -= 1\n",
    "        hint_type = random.choice(['factors_multiples', 'larger_smaller', 'parity'])\n",
    "        \n",
    "        if hint_type == 'factors_multiples':\n",
    "            factors = [i for i in range(1, self.number + 1) if self.number % i == 0]\n",
    "            multiples = [self.number * i for i in range(1, 4)]\n",
    "            return random.choice(factors + multiples)\n",
    "        \n",
    "        elif hint_type == 'larger_smaller':\n",
    "            if self.number > 1:\n",
    "                return f\"The number is larger than {random.randint(1, self.number - 1)}\"\n",
    "            else:\n",
    "                return f\"The number is smaller than {random.randint(self.number + 1, 100)}\"\n",
    "        \n",
    "        elif hint_type == 'parity':\n",
    "            return \"The number is even.\" if self.number % 2 == 0 else \"The number is odd.\"\n",
    "\n",
    "    def guess(self, user_guess):\n",
    "        if user_guess == self.number:\n",
    "            return \"Congratulations! You guessed the number.\"\n",
    "        \n",
    "        self.remaining_guesses -= 1\n",
    "        if self.remaining_guesses == 0:\n",
    "            return f\"Game over! The number was {self.number}.\"\n",
    "        \n",
    "        return f\"Incorrect! {self.remaining_guesses} guesses left. Type 'hint' for a clue.\"\n",
    "\n",
    "def play_game():\n",
    "    game = Guesser()\n",
    "    print(f\"Welcome! Guess the number. You have {game.max_guesses} attempts and {game.max_hints} hints available.\")\n",
    "    \n",
    "    while game.remaining_guesses > 0:\n",
    "        user_input = input(\"Enter your guess or type 'hint': \")\n",
    "        \n",
    "        if user_input.lower() == 'hint':\n",
    "            print(game.get_hint())\n",
    "        else:\n",
    "            try:\n",
    "                user_guess = int(user_input)\n",
    "                result = game.guess(user_guess)\n",
    "                print(result)\n",
    "                if \"Congratulations\" in result:\n",
    "                    break\n",
    "            except ValueError:\n",
    "                print(\"Invalid input. Please enter a number.\")\n",
    "    \n",
    "play_game()\n"
   ]
  },
  {
   "cell_type": "code",
   "execution_count": null,
   "id": "1c81f759-a1a0-456d-a027-281c5482531b",
   "metadata": {},
   "outputs": [],
   "source": []
  }
 ],
 "metadata": {
  "kernelspec": {
   "display_name": "Python [conda env:base] *",
   "language": "python",
   "name": "conda-base-py"
  },
  "language_info": {
   "codemirror_mode": {
    "name": "ipython",
    "version": 3
   },
   "file_extension": ".py",
   "mimetype": "text/x-python",
   "name": "python",
   "nbconvert_exporter": "python",
   "pygments_lexer": "ipython3",
   "version": "3.12.7"
  }
 },
 "nbformat": 4,
 "nbformat_minor": 5
}
